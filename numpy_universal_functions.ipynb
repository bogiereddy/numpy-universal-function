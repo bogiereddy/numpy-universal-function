{
  "nbformat": 4,
  "nbformat_minor": 0,
  "metadata": {
    "colab": {
      "provenance": []
    },
    "kernelspec": {
      "name": "python3",
      "display_name": "Python 3"
    },
    "language_info": {
      "name": "python"
    }
  },
  "cells": [
    {
      "cell_type": "code",
      "execution_count": 1,
      "metadata": {
        "colab": {
          "base_uri": "https://localhost:8080/"
        },
        "id": "j9auzZmBK8gx",
        "outputId": "6cb27363-150f-4428-b62d-6d795ed1ab96"
      },
      "outputs": [
        {
          "output_type": "stream",
          "name": "stdout",
          "text": [
            "Original array: [1 2 3 4 5]\n",
            "Squared array: [1 4 9 16 25]\n"
          ]
        }
      ],
      "source": [
        "import numpy as np\n",
        "\n",
        "# Define a custom Python function\n",
        "def custom_square(x):\n",
        "    return x ** 2\n",
        "\n",
        "# Create a ufunc using numpy.frompyfunc\n",
        "square_ufunc = np.frompyfunc(custom_square, 1, 1)  # 1 input, 1 output\n",
        "\n",
        "# Create a numpy array\n",
        "arr = np.array([1, 2, 3, 4, 5])\n",
        "\n",
        "# Apply the ufunc to the array\n",
        "result = square_ufunc(arr)\n",
        "\n",
        "print(\"Original array:\", arr)\n",
        "print(\"Squared array:\", result)\n"
      ]
    },
    {
      "cell_type": "code",
      "source": [
        "# Define a custom function for string concatenation\n",
        "def add_suffix(string, suffix):\n",
        "    return string + suffix\n",
        "\n",
        "# Create a ufunc with 2 inputs and 1 output\n",
        "concat_ufunc = np.frompyfunc(add_suffix, 2, 1)\n",
        "\n",
        "# Apply the ufunc\n",
        "strings = np.array([\"apple\", \"banana\", \"cherry\"])\n",
        "suffix = \"_fruit\"\n",
        "result = concat_ufunc(strings, suffix)\n",
        "\n",
        "print(\"Original strings:\", strings)\n",
        "print(\"Strings with suffix:\", result)\n"
      ],
      "metadata": {
        "colab": {
          "base_uri": "https://localhost:8080/"
        },
        "id": "HMxy_MTrLPgT",
        "outputId": "7f7b1c7b-9fb9-481c-c21a-f223b9d93423"
      },
      "execution_count": 2,
      "outputs": [
        {
          "output_type": "stream",
          "name": "stdout",
          "text": [
            "Original strings: ['apple' 'banana' 'cherry']\n",
            "Strings with suffix: ['apple_fruit' 'banana_fruit' 'cherry_fruit']\n"
          ]
        }
      ]
    }
  ]
}